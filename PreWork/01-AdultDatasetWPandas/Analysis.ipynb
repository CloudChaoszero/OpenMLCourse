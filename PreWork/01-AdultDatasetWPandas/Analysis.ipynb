{
 "cells": [
  {
   "cell_type": "markdown",
   "metadata": {},
   "source": [
    "## Researching Adult Age Data with Pandas"
   ]
  },
  {
   "cell_type": "code",
   "execution_count": 3,
   "metadata": {},
   "outputs": [],
   "source": [
    "import numpy as np\n",
    "import pandas as pd\n",
    "\n",
    "%matplotlib inline\n",
    "import matplotlib.pyplot as plt\n",
    "import seaborn as sns"
   ]
  },
  {
   "cell_type": "code",
   "execution_count": 77,
   "metadata": {},
   "outputs": [],
   "source": [
    "data = pd.read_csv('Data/adult_data.csv', names = ['age', 'workclass','fnlwgt','education','education-num',\n",
    "                                                   'marital','occupation','relationship','race','sex',\n",
    "                                                   'capital-gain','capital-loss','hours','native-country', 'Earnings'\n",
    "                                                  ], index_col = False)\n",
    "whitespacesToTakeOut = ['sex','native-country','Earnings']\n",
    "for columnName in whitespacesToTakeOut:\n",
    "    data[columnName] = data[columnName].apply(lambda x: x.strip())    #Strip out whitespace from 'sex' column"
   ]
  },
  {
   "cell_type": "markdown",
   "metadata": {},
   "source": [
    "## Questions\n",
    "### 1. How many men and women (sex feature) are represented in this dataset?\n"
   ]
  },
  {
   "cell_type": "code",
   "execution_count": 78,
   "metadata": {},
   "outputs": [
    {
     "data": {
      "text/html": [
       "<div>\n",
       "<style scoped>\n",
       "    .dataframe tbody tr th:only-of-type {\n",
       "        vertical-align: middle;\n",
       "    }\n",
       "\n",
       "    .dataframe tbody tr th {\n",
       "        vertical-align: top;\n",
       "    }\n",
       "\n",
       "    .dataframe thead th {\n",
       "        text-align: right;\n",
       "    }\n",
       "</style>\n",
       "<table border=\"1\" class=\"dataframe\">\n",
       "  <thead>\n",
       "    <tr style=\"text-align: right;\">\n",
       "      <th></th>\n",
       "      <th>age</th>\n",
       "      <th>workclass</th>\n",
       "      <th>fnlwgt</th>\n",
       "      <th>education</th>\n",
       "      <th>education-num</th>\n",
       "      <th>marital</th>\n",
       "      <th>occupation</th>\n",
       "      <th>relationship</th>\n",
       "      <th>race</th>\n",
       "      <th>sex</th>\n",
       "      <th>capital-gain</th>\n",
       "      <th>capital-loss</th>\n",
       "      <th>hours</th>\n",
       "      <th>native-country</th>\n",
       "      <th>Earnings</th>\n",
       "    </tr>\n",
       "  </thead>\n",
       "  <tbody>\n",
       "    <tr>\n",
       "      <th>0</th>\n",
       "      <td>39</td>\n",
       "      <td>State-gov</td>\n",
       "      <td>77516</td>\n",
       "      <td>Bachelors</td>\n",
       "      <td>13</td>\n",
       "      <td>Never-married</td>\n",
       "      <td>Adm-clerical</td>\n",
       "      <td>Not-in-family</td>\n",
       "      <td>White</td>\n",
       "      <td>Male</td>\n",
       "      <td>2174</td>\n",
       "      <td>0</td>\n",
       "      <td>40</td>\n",
       "      <td>United-States</td>\n",
       "      <td>&lt;=50K</td>\n",
       "    </tr>\n",
       "    <tr>\n",
       "      <th>1</th>\n",
       "      <td>50</td>\n",
       "      <td>Self-emp-not-inc</td>\n",
       "      <td>83311</td>\n",
       "      <td>Bachelors</td>\n",
       "      <td>13</td>\n",
       "      <td>Married-civ-spouse</td>\n",
       "      <td>Exec-managerial</td>\n",
       "      <td>Husband</td>\n",
       "      <td>White</td>\n",
       "      <td>Male</td>\n",
       "      <td>0</td>\n",
       "      <td>0</td>\n",
       "      <td>13</td>\n",
       "      <td>United-States</td>\n",
       "      <td>&lt;=50K</td>\n",
       "    </tr>\n",
       "    <tr>\n",
       "      <th>2</th>\n",
       "      <td>38</td>\n",
       "      <td>Private</td>\n",
       "      <td>215646</td>\n",
       "      <td>HS-grad</td>\n",
       "      <td>9</td>\n",
       "      <td>Divorced</td>\n",
       "      <td>Handlers-cleaners</td>\n",
       "      <td>Not-in-family</td>\n",
       "      <td>White</td>\n",
       "      <td>Male</td>\n",
       "      <td>0</td>\n",
       "      <td>0</td>\n",
       "      <td>40</td>\n",
       "      <td>United-States</td>\n",
       "      <td>&lt;=50K</td>\n",
       "    </tr>\n",
       "    <tr>\n",
       "      <th>3</th>\n",
       "      <td>53</td>\n",
       "      <td>Private</td>\n",
       "      <td>234721</td>\n",
       "      <td>11th</td>\n",
       "      <td>7</td>\n",
       "      <td>Married-civ-spouse</td>\n",
       "      <td>Handlers-cleaners</td>\n",
       "      <td>Husband</td>\n",
       "      <td>Black</td>\n",
       "      <td>Male</td>\n",
       "      <td>0</td>\n",
       "      <td>0</td>\n",
       "      <td>40</td>\n",
       "      <td>United-States</td>\n",
       "      <td>&lt;=50K</td>\n",
       "    </tr>\n",
       "    <tr>\n",
       "      <th>4</th>\n",
       "      <td>28</td>\n",
       "      <td>Private</td>\n",
       "      <td>338409</td>\n",
       "      <td>Bachelors</td>\n",
       "      <td>13</td>\n",
       "      <td>Married-civ-spouse</td>\n",
       "      <td>Prof-specialty</td>\n",
       "      <td>Wife</td>\n",
       "      <td>Black</td>\n",
       "      <td>Female</td>\n",
       "      <td>0</td>\n",
       "      <td>0</td>\n",
       "      <td>40</td>\n",
       "      <td>Cuba</td>\n",
       "      <td>&lt;=50K</td>\n",
       "    </tr>\n",
       "  </tbody>\n",
       "</table>\n",
       "</div>"
      ],
      "text/plain": [
       "   age          workclass  fnlwgt   education  education-num  \\\n",
       "0   39          State-gov   77516   Bachelors             13   \n",
       "1   50   Self-emp-not-inc   83311   Bachelors             13   \n",
       "2   38            Private  215646     HS-grad              9   \n",
       "3   53            Private  234721        11th              7   \n",
       "4   28            Private  338409   Bachelors             13   \n",
       "\n",
       "               marital          occupation    relationship    race     sex  \\\n",
       "0        Never-married        Adm-clerical   Not-in-family   White    Male   \n",
       "1   Married-civ-spouse     Exec-managerial         Husband   White    Male   \n",
       "2             Divorced   Handlers-cleaners   Not-in-family   White    Male   \n",
       "3   Married-civ-spouse   Handlers-cleaners         Husband   Black    Male   \n",
       "4   Married-civ-spouse      Prof-specialty            Wife   Black  Female   \n",
       "\n",
       "   capital-gain  capital-loss  hours native-country Earnings  \n",
       "0          2174             0     40  United-States    <=50K  \n",
       "1             0             0     13  United-States    <=50K  \n",
       "2             0             0     40  United-States    <=50K  \n",
       "3             0             0     40  United-States    <=50K  \n",
       "4             0             0     40           Cuba    <=50K  "
      ]
     },
     "execution_count": 78,
     "metadata": {},
     "output_type": "execute_result"
    }
   ],
   "source": [
    "data.head()"
   ]
  },
  {
   "cell_type": "code",
   "execution_count": 79,
   "metadata": {},
   "outputs": [
    {
     "data": {
      "text/plain": [
       "Male      21790\n",
       "Female    10771\n",
       "Name: sex, dtype: int64"
      ]
     },
     "execution_count": 79,
     "metadata": {},
     "output_type": "execute_result"
    }
   ],
   "source": [
    "data.sex.value_counts()"
   ]
  },
  {
   "cell_type": "code",
   "execution_count": 80,
   "metadata": {},
   "outputs": [
    {
     "data": {
      "text/plain": [
       "United-States                 29170\n",
       "Mexico                          643\n",
       "?                               583\n",
       "Philippines                     198\n",
       "Germany                         137\n",
       "Canada                          121\n",
       "Puerto-Rico                     114\n",
       "El-Salvador                     106\n",
       "India                           100\n",
       "Cuba                             95\n",
       "England                          90\n",
       "Jamaica                          81\n",
       "South                            80\n",
       "China                            75\n",
       "Italy                            73\n",
       "Dominican-Republic               70\n",
       "Vietnam                          67\n",
       "Guatemala                        64\n",
       "Japan                            62\n",
       "Poland                           60\n",
       "Columbia                         59\n",
       "Taiwan                           51\n",
       "Haiti                            44\n",
       "Iran                             43\n",
       "Portugal                         37\n",
       "Nicaragua                        34\n",
       "Peru                             31\n",
       "France                           29\n",
       "Greece                           29\n",
       "Ecuador                          28\n",
       "Ireland                          24\n",
       "Hong                             20\n",
       "Cambodia                         19\n",
       "Trinadad&Tobago                  19\n",
       "Laos                             18\n",
       "Thailand                         18\n",
       "Yugoslavia                       16\n",
       "Outlying-US(Guam-USVI-etc)       14\n",
       "Hungary                          13\n",
       "Honduras                         13\n",
       "Scotland                         12\n",
       "Holand-Netherlands                1\n",
       "Name: native-country, dtype: int64"
      ]
     },
     "execution_count": 80,
     "metadata": {},
     "output_type": "execute_result"
    }
   ],
   "source": [
    "data['native-country'].value_counts()"
   ]
  },
  {
   "cell_type": "markdown",
   "metadata": {},
   "source": [
    "### 2. What is the average age (age feature) of women?"
   ]
  },
  {
   "cell_type": "code",
   "execution_count": 81,
   "metadata": {},
   "outputs": [
    {
     "name": "stdout",
     "output_type": "stream",
     "text": [
      "The average age of women is 36.85823043357163\n"
     ]
    }
   ],
   "source": [
    "age_avg = data[data['sex'] == 'Female']['age'].mean()\n",
    "print(\"The average age of women is %s\" % age_avg)"
   ]
  },
  {
   "cell_type": "markdown",
   "metadata": {},
   "source": [
    "### 3. What is the percentage of German citizens (native-country feature)?"
   ]
  },
  {
   "cell_type": "code",
   "execution_count": 82,
   "metadata": {},
   "outputs": [
    {
     "name": "stdout",
     "output_type": "stream",
     "text": [
      "The percentage of German Citizens is 0.00420748748503\n"
     ]
    }
   ],
   "source": [
    "native_country = data['native-country']\n",
    "\n",
    "germanCitizensPercentage = data[native_country== 'Germany']['native-country'].count() / \\\n",
    "native_country.count()\n",
    "print(\"The percentage of German Citizens is %s\" % germanCitizensPercentage)"
   ]
  },
  {
   "cell_type": "markdown",
   "metadata": {},
   "source": [
    "### 4-5. What are the mean and standard deviation of age for those who earn more than 50K per year (salary feature) and those who earn less than 50K per year?\n"
   ]
  },
  {
   "cell_type": "code",
   "execution_count": 98,
   "metadata": {},
   "outputs": [
    {
     "name": "stdout",
     "output_type": "stream",
     "text": [
      "Mean and Standard Deviation for earnings greater than 50k\n",
      " mean    44.249841\n",
      "std     10.519028\n",
      "Name: age, dtype: float64\n",
      "Mean and Standard Deviation for earnings greater than 50k\n",
      " mean    36.783738\n",
      "std     14.020088\n",
      "Name: age, dtype: float64\n"
     ]
    }
   ],
   "source": [
    "EarningsStats_50kGreater = data[data['Earnings']== '>50K']['age'].describe()[['mean','std']]\n",
    "EarningsStats_50kLess =  data[data['Earnings']== '<=50K']['age'].describe()[['mean','std']]\n",
    "print(\"Mean and Standard Deviation for earnings greater than 50k\\n %s\" % EarningsStats_50kGreater)\n",
    "print(\"Mean and Standard Deviation for earnings greater than 50k\\n %s\" % EarningsStats_50kLess)"
   ]
  },
  {
   "cell_type": "markdown",
   "metadata": {},
   "source": [
    "### 6. Is it true that people who earn more than 50K have at least high school education? (education – Bachelors, Prof-school, Assoc-acdm, Assoc-voc, Masters or Doctorate feature)\n"
   ]
  },
  {
   "cell_type": "code",
   "execution_count": 106,
   "metadata": {},
   "outputs": [
    {
     "data": {
      "text/html": [
       "<div>\n",
       "<style scoped>\n",
       "    .dataframe tbody tr th:only-of-type {\n",
       "        vertical-align: middle;\n",
       "    }\n",
       "\n",
       "    .dataframe tbody tr th {\n",
       "        vertical-align: top;\n",
       "    }\n",
       "\n",
       "    .dataframe thead tr th {\n",
       "        text-align: left;\n",
       "    }\n",
       "\n",
       "    .dataframe thead tr:last-of-type th {\n",
       "        text-align: right;\n",
       "    }\n",
       "</style>\n",
       "<table border=\"1\" class=\"dataframe\">\n",
       "  <thead>\n",
       "    <tr>\n",
       "      <th></th>\n",
       "      <th colspan=\"16\" halign=\"left\">age</th>\n",
       "    </tr>\n",
       "    <tr>\n",
       "      <th>education</th>\n",
       "      <th>10th</th>\n",
       "      <th>11th</th>\n",
       "      <th>12th</th>\n",
       "      <th>1st-4th</th>\n",
       "      <th>5th-6th</th>\n",
       "      <th>7th-8th</th>\n",
       "      <th>9th</th>\n",
       "      <th>Assoc-acdm</th>\n",
       "      <th>Assoc-voc</th>\n",
       "      <th>Bachelors</th>\n",
       "      <th>Doctorate</th>\n",
       "      <th>HS-grad</th>\n",
       "      <th>Masters</th>\n",
       "      <th>Preschool</th>\n",
       "      <th>Prof-school</th>\n",
       "      <th>Some-college</th>\n",
       "    </tr>\n",
       "    <tr>\n",
       "      <th>Earnings</th>\n",
       "      <th></th>\n",
       "      <th></th>\n",
       "      <th></th>\n",
       "      <th></th>\n",
       "      <th></th>\n",
       "      <th></th>\n",
       "      <th></th>\n",
       "      <th></th>\n",
       "      <th></th>\n",
       "      <th></th>\n",
       "      <th></th>\n",
       "      <th></th>\n",
       "      <th></th>\n",
       "      <th></th>\n",
       "      <th></th>\n",
       "      <th></th>\n",
       "    </tr>\n",
       "  </thead>\n",
       "  <tbody>\n",
       "    <tr>\n",
       "      <th>&lt;=50K</th>\n",
       "      <td>871.0</td>\n",
       "      <td>1115.0</td>\n",
       "      <td>400.0</td>\n",
       "      <td>162.0</td>\n",
       "      <td>317.0</td>\n",
       "      <td>606.0</td>\n",
       "      <td>487.0</td>\n",
       "      <td>802.0</td>\n",
       "      <td>1021.0</td>\n",
       "      <td>3134.0</td>\n",
       "      <td>107.0</td>\n",
       "      <td>8826.0</td>\n",
       "      <td>764.0</td>\n",
       "      <td>51.0</td>\n",
       "      <td>153.0</td>\n",
       "      <td>5904.0</td>\n",
       "    </tr>\n",
       "    <tr>\n",
       "      <th>&gt;50K</th>\n",
       "      <td>62.0</td>\n",
       "      <td>60.0</td>\n",
       "      <td>33.0</td>\n",
       "      <td>6.0</td>\n",
       "      <td>16.0</td>\n",
       "      <td>40.0</td>\n",
       "      <td>27.0</td>\n",
       "      <td>265.0</td>\n",
       "      <td>361.0</td>\n",
       "      <td>2221.0</td>\n",
       "      <td>306.0</td>\n",
       "      <td>1675.0</td>\n",
       "      <td>959.0</td>\n",
       "      <td>NaN</td>\n",
       "      <td>423.0</td>\n",
       "      <td>1387.0</td>\n",
       "    </tr>\n",
       "  </tbody>\n",
       "</table>\n",
       "</div>"
      ],
      "text/plain": [
       "             age                                                               \\\n",
       "education   10th    11th   12th  1st-4th  5th-6th  7th-8th    9th  Assoc-acdm   \n",
       "Earnings                                                                        \n",
       "<=50K      871.0  1115.0  400.0    162.0    317.0    606.0  487.0       802.0   \n",
       ">50K        62.0    60.0   33.0      6.0     16.0     40.0   27.0       265.0   \n",
       "\n",
       "                                                                         \\\n",
       "education  Assoc-voc  Bachelors  Doctorate  HS-grad  Masters  Preschool   \n",
       "Earnings                                                                  \n",
       "<=50K         1021.0     3134.0      107.0   8826.0    764.0       51.0   \n",
       ">50K           361.0     2221.0      306.0   1675.0    959.0        NaN   \n",
       "\n",
       "                                      \n",
       "education  Prof-school  Some-college  \n",
       "Earnings                              \n",
       "<=50K            153.0        5904.0  \n",
       ">50K             423.0        1387.0  "
      ]
     },
     "execution_count": 106,
     "metadata": {},
     "output_type": "execute_result"
    }
   ],
   "source": [
    "data[['age','Earnings','education']].pivot_table(index = 'Earnings', columns = ['education'],aggfunc ='count')"
   ]
  },
  {
   "cell_type": "markdown",
   "metadata": {},
   "source": [
    "### 7. Display age statistics for each race (race feature) and each gender (sex feature). Use groupby() and describe(). Find the maximum age of men of Amer-Indian-Eskimo race.\n"
   ]
  },
  {
   "cell_type": "code",
   "execution_count": 137,
   "metadata": {},
   "outputs": [
    {
     "name": "stdout",
     "output_type": "stream",
     "text": [
      "Age Descriptive Statistics by Gender\n",
      "                         age                                                \\\n",
      "                       count       mean        std   min   25%   50%   75%   \n",
      "race                                                                         \n",
      " Amer-Indian-Eskimo    311.0  37.173633  12.447130  17.0  28.0  35.0  45.5   \n",
      " Asian-Pac-Islander   1039.0  37.746872  12.825133  17.0  28.0  36.0  45.0   \n",
      " Black                3124.0  37.767926  12.759290  17.0  28.0  36.0  46.0   \n",
      " Other                 271.0  33.457565  11.538865  17.0  25.0  31.0  41.0   \n",
      " White               27816.0  38.769881  13.782306  17.0  28.0  37.0  48.0   \n",
      "\n",
      "                           \n",
      "                      max  \n",
      "race                       \n",
      " Amer-Indian-Eskimo  82.0  \n",
      " Asian-Pac-Islander  90.0  \n",
      " Black               90.0  \n",
      " Other               77.0  \n",
      " White               90.0  \n",
      "Age Descriptive Statistics by Gender\n",
      "            age                                                    \n",
      "          count       mean        std   min   25%   50%   75%   max\n",
      "sex                                                                \n",
      "Female  10771.0  36.858230  14.013697  17.0  25.0  35.0  46.0  90.0\n",
      "Male    21790.0  39.433547  13.370630  17.0  29.0  38.0  48.0  90.0\n",
      "\n",
      "\n",
      "\n",
      "The maximum age of men of American Indian-Eskimo race is 82.0\n"
     ]
    }
   ],
   "source": [
    "raceBreakdown = data[['age','race']].groupby(by = 'race').describe()\n",
    "print(\"Age Descriptive Statistics by Gender\")\n",
    "print(raceBreakdown)\n",
    "\n",
    "genderBreakdown = data[['age','sex']].groupby(by = 'sex').describe()\n",
    "print(\"Age Descriptive Statistics by Gender\")\n",
    "print(genderBreakdown)\n",
    "\n",
    "print(\"\\n\\n\")\n",
    "print(\"The maximum age of men of American Indian-Eskimo race is %s\" % pd.DataFrame(raceBreakdown).reset_index().iloc[0,8])"
   ]
  },
  {
   "cell_type": "markdown",
   "metadata": {},
   "source": [
    "### 8. Among whom is the proportion of those who earn a lot (>50K) greater: married or single men (marital-status feature)? Consider as married those who have a marital-status starting with Married (Married-civ-spouse, Married-spouse-absent or Married-AF-spouse), the rest are considered bachelors.\n"
   ]
  },
  {
   "cell_type": "code",
   "execution_count": 159,
   "metadata": {},
   "outputs": [
    {
     "name": "stdout",
     "output_type": "stream",
     "text": [
      "Proportion of Martial Individuals who earn a lot: 0.140925902308\n",
      "Proportion of Martial Individuals who do not earn a lot: 0.859074097692\n"
     ]
    }
   ],
   "source": [
    "maritalCount = 0\n",
    "nonMaritcalCount = 0\n",
    "\n",
    "peopleEarnMoreThan50 = data[data['Earnings']=='>50K']\n",
    "totalCount = peopleEarnMoreThan50['marital'].count()\n",
    "\n",
    "for key, val in dict(peopleEarnMoreThan50.marital.value_counts()).items():\n",
    "    if \"Mar\" in key:\n",
    "        maritalCount = maritalCount + val\n",
    "    else:\n",
    "        nonMaritcalCount = nonMaritcalCount + val\n",
    "maritalProportion = nonMaritcalCount / totalCount\n",
    "nonMaritalProportion = maritalCount / totalCount\n",
    "\n",
    "print('Proportion of Martial Individuals who earn a lot: %s' % maritalProportion)\n",
    "print('Proportion of Non-Martial Individuals who earn a lot: %s' % nonMaritalProportion)"
   ]
  },
  {
   "cell_type": "markdown",
   "metadata": {},
   "source": [
    "### 9. What is the maximum number of hours a person works per week (hours-per-week feature)? How many people work such a number of hours, and what is the percentage of those who earn a lot (>50K) among them?\n"
   ]
  },
  {
   "cell_type": "code",
   "execution_count": 189,
   "metadata": {},
   "outputs": [
    {
     "name": "stdout",
     "output_type": "stream",
     "text": [
      "Maximum hours a person works per week 99\n",
      "\n",
      "Number of people who work 99: 85\n",
      "\n",
      " Percentage of Those who earned >50k among People who work 0.318836883051 hours: 0.318836883051 %\n"
     ]
    }
   ],
   "source": [
    "maxHoursWorked = data['hours'].max()\n",
    "print(\"Maximum hours a person works per week %s\" % maxHoursWorked)\n",
    "\n",
    "thosewhoWork99 = data[data['hours']==maxHoursWorked]['hours'].count()\n",
    "print(\"\\nNumber of people who work %s: %s\" % (maxHoursWorked,thosewhoWork99))\n",
    "\n",
    "those99AndGreater50K_pt1 = data[data['hours']==maxHoursWorked]\n",
    "those99AndGreater50K_pt2 = those99AndGreater50K_pt1[those99AndGreater50K_pt1['Earnings'] == '>50K']['hours'].count() / peopleEarnMoreThan50['hours'].count() * 100\n",
    "print(\"\\n Percentage of Those who earned >50k among People who work %s hours: %s\" % (those99AndGreater50K_pt2, those99AndGreater50K_pt2),'%')"
   ]
  },
  {
   "cell_type": "markdown",
   "metadata": {},
   "source": [
    "## Resources\n",
    "\n",
    "\n",
    "### Data Dictionary\n",
    "1. age\n",
    "2. workclass\n",
    "3. fnlwgt\n",
    "4. education\n",
    "5. education-num\n",
    "6. 'marital\n",
    "7. occupation\n",
    "8. relationship\n",
    "9. race\n",
    "10. sex\n",
    "11. capital-gain\n",
    "12. capital-loss\n",
    "13. hours\n",
    "14. native-country\n",
    "15. earnings"
   ]
  }
 ],
 "metadata": {
  "kernelspec": {
   "display_name": "Python 3",
   "language": "python",
   "name": "python3"
  },
  "language_info": {
   "codemirror_mode": {
    "name": "ipython",
    "version": 3
   },
   "file_extension": ".py",
   "mimetype": "text/x-python",
   "name": "python",
   "nbconvert_exporter": "python",
   "pygments_lexer": "ipython3",
   "version": "3.6.0"
  }
 },
 "nbformat": 4,
 "nbformat_minor": 2
}
